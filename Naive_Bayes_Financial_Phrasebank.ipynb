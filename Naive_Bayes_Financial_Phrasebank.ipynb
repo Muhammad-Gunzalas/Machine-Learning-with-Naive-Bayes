{
  "nbformat": 4,
  "nbformat_minor": 0,
  "metadata": {
    "colab": {
      "provenance": [],
      "authorship_tag": "ABX9TyOyDTnLZrCQ18M3hCgTKDYj",
      "include_colab_link": true
    },
    "kernelspec": {
      "name": "python3",
      "display_name": "Python 3"
    },
    "language_info": {
      "name": "python"
    }
  },
  "cells": [
    {
      "cell_type": "markdown",
      "metadata": {
        "id": "view-in-github",
        "colab_type": "text"
      },
      "source": [
        "<a href=\"https://colab.research.google.com/github/Muhammad-Gunzalas/Machine-Learning-with-Naive-Bayes/blob/main/Naive_Bayes_Financial_Phrasebank.ipynb\" target=\"_parent\"><img src=\"https://colab.research.google.com/assets/colab-badge.svg\" alt=\"Open In Colab\"/></a>"
      ]
    },
    {
      "cell_type": "markdown",
      "source": [
        "\n",
        "\n",
        "\n",
        "\n",
        "*   Muhammad Gunzalas    191370091\n",
        "*  \n",
        "\n"
      ],
      "metadata": {
        "id": "T-D1q5L34ZCY"
      }
    },
    {
      "cell_type": "code",
      "execution_count": null,
      "metadata": {
        "id": "8ITWIaBOxWBY"
      },
      "outputs": [],
      "source": [
        "import pandas as pd\n",
        "from sklearn.model_selection import train_test_split\n",
        "import sklearn.metrics as sk\n",
        "\n",
        "# Load the dataset\n",
        "df = pd.read_csv(\"Financial_Phrasebank.csv\", encoding=\"ISO-8859-1\")\n",
        "\n"
      ]
    },
    {
      "cell_type": "code",
      "source": [
        "df.head(5)"
      ],
      "metadata": {
        "colab": {
          "base_uri": "https://localhost:8080/",
          "height": 206
        },
        "id": "1OdJwUYgQRY5",
        "outputId": "2ebaf033-d79e-47df-a219-bf6cd440f0e5"
      },
      "execution_count": null,
      "outputs": [
        {
          "output_type": "execute_result",
          "data": {
            "text/plain": [
              "                                            Sentence     Label\n",
              "0  According to Gran , the company has no plans t...   neutral\n",
              "1  Technopolis plans to develop in stages an area...   neutral\n",
              "2  The international electronic industry company ...  negative\n",
              "3  With the new production plant the company woul...  positive\n",
              "4  According to the company 's updated strategy f...  positive"
            ],
            "text/html": [
              "\n",
              "  <div id=\"df-5320e27b-56dd-4a33-a32e-34b3bf6480c6\">\n",
              "    <div class=\"colab-df-container\">\n",
              "      <div>\n",
              "<style scoped>\n",
              "    .dataframe tbody tr th:only-of-type {\n",
              "        vertical-align: middle;\n",
              "    }\n",
              "\n",
              "    .dataframe tbody tr th {\n",
              "        vertical-align: top;\n",
              "    }\n",
              "\n",
              "    .dataframe thead th {\n",
              "        text-align: right;\n",
              "    }\n",
              "</style>\n",
              "<table border=\"1\" class=\"dataframe\">\n",
              "  <thead>\n",
              "    <tr style=\"text-align: right;\">\n",
              "      <th></th>\n",
              "      <th>Sentence</th>\n",
              "      <th>Label</th>\n",
              "    </tr>\n",
              "  </thead>\n",
              "  <tbody>\n",
              "    <tr>\n",
              "      <th>0</th>\n",
              "      <td>According to Gran , the company has no plans t...</td>\n",
              "      <td>neutral</td>\n",
              "    </tr>\n",
              "    <tr>\n",
              "      <th>1</th>\n",
              "      <td>Technopolis plans to develop in stages an area...</td>\n",
              "      <td>neutral</td>\n",
              "    </tr>\n",
              "    <tr>\n",
              "      <th>2</th>\n",
              "      <td>The international electronic industry company ...</td>\n",
              "      <td>negative</td>\n",
              "    </tr>\n",
              "    <tr>\n",
              "      <th>3</th>\n",
              "      <td>With the new production plant the company woul...</td>\n",
              "      <td>positive</td>\n",
              "    </tr>\n",
              "    <tr>\n",
              "      <th>4</th>\n",
              "      <td>According to the company 's updated strategy f...</td>\n",
              "      <td>positive</td>\n",
              "    </tr>\n",
              "  </tbody>\n",
              "</table>\n",
              "</div>\n",
              "      <button class=\"colab-df-convert\" onclick=\"convertToInteractive('df-5320e27b-56dd-4a33-a32e-34b3bf6480c6')\"\n",
              "              title=\"Convert this dataframe to an interactive table.\"\n",
              "              style=\"display:none;\">\n",
              "        \n",
              "  <svg xmlns=\"http://www.w3.org/2000/svg\" height=\"24px\"viewBox=\"0 0 24 24\"\n",
              "       width=\"24px\">\n",
              "    <path d=\"M0 0h24v24H0V0z\" fill=\"none\"/>\n",
              "    <path d=\"M18.56 5.44l.94 2.06.94-2.06 2.06-.94-2.06-.94-.94-2.06-.94 2.06-2.06.94zm-11 1L8.5 8.5l.94-2.06 2.06-.94-2.06-.94L8.5 2.5l-.94 2.06-2.06.94zm10 10l.94 2.06.94-2.06 2.06-.94-2.06-.94-.94-2.06-.94 2.06-2.06.94z\"/><path d=\"M17.41 7.96l-1.37-1.37c-.4-.4-.92-.59-1.43-.59-.52 0-1.04.2-1.43.59L10.3 9.45l-7.72 7.72c-.78.78-.78 2.05 0 2.83L4 21.41c.39.39.9.59 1.41.59.51 0 1.02-.2 1.41-.59l7.78-7.78 2.81-2.81c.8-.78.8-2.07 0-2.86zM5.41 20L4 18.59l7.72-7.72 1.47 1.35L5.41 20z\"/>\n",
              "  </svg>\n",
              "      </button>\n",
              "      \n",
              "  <style>\n",
              "    .colab-df-container {\n",
              "      display:flex;\n",
              "      flex-wrap:wrap;\n",
              "      gap: 12px;\n",
              "    }\n",
              "\n",
              "    .colab-df-convert {\n",
              "      background-color: #E8F0FE;\n",
              "      border: none;\n",
              "      border-radius: 50%;\n",
              "      cursor: pointer;\n",
              "      display: none;\n",
              "      fill: #1967D2;\n",
              "      height: 32px;\n",
              "      padding: 0 0 0 0;\n",
              "      width: 32px;\n",
              "    }\n",
              "\n",
              "    .colab-df-convert:hover {\n",
              "      background-color: #E2EBFA;\n",
              "      box-shadow: 0px 1px 2px rgba(60, 64, 67, 0.3), 0px 1px 3px 1px rgba(60, 64, 67, 0.15);\n",
              "      fill: #174EA6;\n",
              "    }\n",
              "\n",
              "    [theme=dark] .colab-df-convert {\n",
              "      background-color: #3B4455;\n",
              "      fill: #D2E3FC;\n",
              "    }\n",
              "\n",
              "    [theme=dark] .colab-df-convert:hover {\n",
              "      background-color: #434B5C;\n",
              "      box-shadow: 0px 1px 3px 1px rgba(0, 0, 0, 0.15);\n",
              "      filter: drop-shadow(0px 1px 2px rgba(0, 0, 0, 0.3));\n",
              "      fill: #FFFFFF;\n",
              "    }\n",
              "  </style>\n",
              "\n",
              "      <script>\n",
              "        const buttonEl =\n",
              "          document.querySelector('#df-5320e27b-56dd-4a33-a32e-34b3bf6480c6 button.colab-df-convert');\n",
              "        buttonEl.style.display =\n",
              "          google.colab.kernel.accessAllowed ? 'block' : 'none';\n",
              "\n",
              "        async function convertToInteractive(key) {\n",
              "          const element = document.querySelector('#df-5320e27b-56dd-4a33-a32e-34b3bf6480c6');\n",
              "          const dataTable =\n",
              "            await google.colab.kernel.invokeFunction('convertToInteractive',\n",
              "                                                     [key], {});\n",
              "          if (!dataTable) return;\n",
              "\n",
              "          const docLinkHtml = 'Like what you see? Visit the ' +\n",
              "            '<a target=\"_blank\" href=https://colab.research.google.com/notebooks/data_table.ipynb>data table notebook</a>'\n",
              "            + ' to learn more about interactive tables.';\n",
              "          element.innerHTML = '';\n",
              "          dataTable['output_type'] = 'display_data';\n",
              "          await google.colab.output.renderOutput(dataTable, element);\n",
              "          const docLink = document.createElement('div');\n",
              "          docLink.innerHTML = docLinkHtml;\n",
              "          element.appendChild(docLink);\n",
              "        }\n",
              "      </script>\n",
              "    </div>\n",
              "  </div>\n",
              "  "
            ]
          },
          "metadata": {},
          "execution_count": 36
        }
      ]
    },
    {
      "cell_type": "code",
      "source": [
        "# df=df[df['Label']!='neutral']"
      ],
      "metadata": {
        "id": "Tnpkv5s_NtIo"
      },
      "execution_count": null,
      "outputs": []
    },
    {
      "cell_type": "code",
      "source": [
        "df.head(10)"
      ],
      "metadata": {
        "colab": {
          "base_uri": "https://localhost:8080/",
          "height": 363
        },
        "id": "Kch3ec-jOaOo",
        "outputId": "3cf9cee5-d20a-4458-fbdf-9f196793f574"
      },
      "execution_count": null,
      "outputs": [
        {
          "output_type": "execute_result",
          "data": {
            "text/plain": [
              "                                             Sentence     Label\n",
              "2   The international electronic industry company ...  negative\n",
              "3   With the new production plant the company woul...  positive\n",
              "4   According to the company 's updated strategy f...  positive\n",
              "5   FINANCING OF ASPOCOMP 'S GROWTH Aspocomp is ag...  positive\n",
              "6   For the last quarter of 2010 , Componenta 's n...  positive\n",
              "7   In the third quarter of 2010 , net sales incre...  positive\n",
              "8   Operating profit rose to EUR 13.1 mn from EUR ...  positive\n",
              "9   Operating profit totalled EUR 21.1 mn , up fro...  positive\n",
              "10  TeliaSonera TLSN said the offer is in line wit...  positive\n",
              "11  STORA ENSO , NORSKE SKOG , M-REAL , UPM-KYMMEN...  positive"
            ],
            "text/html": [
              "\n",
              "  <div id=\"df-2238e363-bed5-4013-b588-0444d9f2c941\">\n",
              "    <div class=\"colab-df-container\">\n",
              "      <div>\n",
              "<style scoped>\n",
              "    .dataframe tbody tr th:only-of-type {\n",
              "        vertical-align: middle;\n",
              "    }\n",
              "\n",
              "    .dataframe tbody tr th {\n",
              "        vertical-align: top;\n",
              "    }\n",
              "\n",
              "    .dataframe thead th {\n",
              "        text-align: right;\n",
              "    }\n",
              "</style>\n",
              "<table border=\"1\" class=\"dataframe\">\n",
              "  <thead>\n",
              "    <tr style=\"text-align: right;\">\n",
              "      <th></th>\n",
              "      <th>Sentence</th>\n",
              "      <th>Label</th>\n",
              "    </tr>\n",
              "  </thead>\n",
              "  <tbody>\n",
              "    <tr>\n",
              "      <th>2</th>\n",
              "      <td>The international electronic industry company ...</td>\n",
              "      <td>negative</td>\n",
              "    </tr>\n",
              "    <tr>\n",
              "      <th>3</th>\n",
              "      <td>With the new production plant the company woul...</td>\n",
              "      <td>positive</td>\n",
              "    </tr>\n",
              "    <tr>\n",
              "      <th>4</th>\n",
              "      <td>According to the company 's updated strategy f...</td>\n",
              "      <td>positive</td>\n",
              "    </tr>\n",
              "    <tr>\n",
              "      <th>5</th>\n",
              "      <td>FINANCING OF ASPOCOMP 'S GROWTH Aspocomp is ag...</td>\n",
              "      <td>positive</td>\n",
              "    </tr>\n",
              "    <tr>\n",
              "      <th>6</th>\n",
              "      <td>For the last quarter of 2010 , Componenta 's n...</td>\n",
              "      <td>positive</td>\n",
              "    </tr>\n",
              "    <tr>\n",
              "      <th>7</th>\n",
              "      <td>In the third quarter of 2010 , net sales incre...</td>\n",
              "      <td>positive</td>\n",
              "    </tr>\n",
              "    <tr>\n",
              "      <th>8</th>\n",
              "      <td>Operating profit rose to EUR 13.1 mn from EUR ...</td>\n",
              "      <td>positive</td>\n",
              "    </tr>\n",
              "    <tr>\n",
              "      <th>9</th>\n",
              "      <td>Operating profit totalled EUR 21.1 mn , up fro...</td>\n",
              "      <td>positive</td>\n",
              "    </tr>\n",
              "    <tr>\n",
              "      <th>10</th>\n",
              "      <td>TeliaSonera TLSN said the offer is in line wit...</td>\n",
              "      <td>positive</td>\n",
              "    </tr>\n",
              "    <tr>\n",
              "      <th>11</th>\n",
              "      <td>STORA ENSO , NORSKE SKOG , M-REAL , UPM-KYMMEN...</td>\n",
              "      <td>positive</td>\n",
              "    </tr>\n",
              "  </tbody>\n",
              "</table>\n",
              "</div>\n",
              "      <button class=\"colab-df-convert\" onclick=\"convertToInteractive('df-2238e363-bed5-4013-b588-0444d9f2c941')\"\n",
              "              title=\"Convert this dataframe to an interactive table.\"\n",
              "              style=\"display:none;\">\n",
              "        \n",
              "  <svg xmlns=\"http://www.w3.org/2000/svg\" height=\"24px\"viewBox=\"0 0 24 24\"\n",
              "       width=\"24px\">\n",
              "    <path d=\"M0 0h24v24H0V0z\" fill=\"none\"/>\n",
              "    <path d=\"M18.56 5.44l.94 2.06.94-2.06 2.06-.94-2.06-.94-.94-2.06-.94 2.06-2.06.94zm-11 1L8.5 8.5l.94-2.06 2.06-.94-2.06-.94L8.5 2.5l-.94 2.06-2.06.94zm10 10l.94 2.06.94-2.06 2.06-.94-2.06-.94-.94-2.06-.94 2.06-2.06.94z\"/><path d=\"M17.41 7.96l-1.37-1.37c-.4-.4-.92-.59-1.43-.59-.52 0-1.04.2-1.43.59L10.3 9.45l-7.72 7.72c-.78.78-.78 2.05 0 2.83L4 21.41c.39.39.9.59 1.41.59.51 0 1.02-.2 1.41-.59l7.78-7.78 2.81-2.81c.8-.78.8-2.07 0-2.86zM5.41 20L4 18.59l7.72-7.72 1.47 1.35L5.41 20z\"/>\n",
              "  </svg>\n",
              "      </button>\n",
              "      \n",
              "  <style>\n",
              "    .colab-df-container {\n",
              "      display:flex;\n",
              "      flex-wrap:wrap;\n",
              "      gap: 12px;\n",
              "    }\n",
              "\n",
              "    .colab-df-convert {\n",
              "      background-color: #E8F0FE;\n",
              "      border: none;\n",
              "      border-radius: 50%;\n",
              "      cursor: pointer;\n",
              "      display: none;\n",
              "      fill: #1967D2;\n",
              "      height: 32px;\n",
              "      padding: 0 0 0 0;\n",
              "      width: 32px;\n",
              "    }\n",
              "\n",
              "    .colab-df-convert:hover {\n",
              "      background-color: #E2EBFA;\n",
              "      box-shadow: 0px 1px 2px rgba(60, 64, 67, 0.3), 0px 1px 3px 1px rgba(60, 64, 67, 0.15);\n",
              "      fill: #174EA6;\n",
              "    }\n",
              "\n",
              "    [theme=dark] .colab-df-convert {\n",
              "      background-color: #3B4455;\n",
              "      fill: #D2E3FC;\n",
              "    }\n",
              "\n",
              "    [theme=dark] .colab-df-convert:hover {\n",
              "      background-color: #434B5C;\n",
              "      box-shadow: 0px 1px 3px 1px rgba(0, 0, 0, 0.15);\n",
              "      filter: drop-shadow(0px 1px 2px rgba(0, 0, 0, 0.3));\n",
              "      fill: #FFFFFF;\n",
              "    }\n",
              "  </style>\n",
              "\n",
              "      <script>\n",
              "        const buttonEl =\n",
              "          document.querySelector('#df-2238e363-bed5-4013-b588-0444d9f2c941 button.colab-df-convert');\n",
              "        buttonEl.style.display =\n",
              "          google.colab.kernel.accessAllowed ? 'block' : 'none';\n",
              "\n",
              "        async function convertToInteractive(key) {\n",
              "          const element = document.querySelector('#df-2238e363-bed5-4013-b588-0444d9f2c941');\n",
              "          const dataTable =\n",
              "            await google.colab.kernel.invokeFunction('convertToInteractive',\n",
              "                                                     [key], {});\n",
              "          if (!dataTable) return;\n",
              "\n",
              "          const docLinkHtml = 'Like what you see? Visit the ' +\n",
              "            '<a target=\"_blank\" href=https://colab.research.google.com/notebooks/data_table.ipynb>data table notebook</a>'\n",
              "            + ' to learn more about interactive tables.';\n",
              "          element.innerHTML = '';\n",
              "          dataTable['output_type'] = 'display_data';\n",
              "          await google.colab.output.renderOutput(dataTable, element);\n",
              "          const docLink = document.createElement('div');\n",
              "          docLink.innerHTML = docLinkHtml;\n",
              "          element.appendChild(docLink);\n",
              "        }\n",
              "      </script>\n",
              "    </div>\n",
              "  </div>\n",
              "  "
            ]
          },
          "metadata": {},
          "execution_count": 48
        }
      ]
    },
    {
      "cell_type": "markdown",
      "source": [
        "This code snippet loads the \"Financial_Phrasebank.csv\" dataset into a pandas DataFrame named \"df\", using the ISO-8859-1 encoding.\n",
        "\n",
        "The \"sklearn.model_selection.train_test_split\" function and \"sklearn.metrics\" module are also imported, indicating that the code may be used for machine learning tasks such as training and evaluating models. However, this code alone does not perform any specific machine learning task."
      ],
      "metadata": {
        "id": "bU2nsseb4WUy"
      }
    },
    {
      "cell_type": "code",
      "source": [
        "# Split the dataset into training and testing data\n",
        "X = df[\"Sentence\"].tolist()\n",
        "y = df[\"Label\"].tolist()\n",
        "X_train, X_test, y_train, y_test = train_test_split(X, y, test_size=0.2, random_state=42)\n",
        "\n",
        "# Convert the training and testing data into the required format for the Naive Bayes algorithm\n",
        "training_data = [(sentence.split(), label) for sentence, label in zip(X_train, y_train)]\n",
        "testing_data = [(sentence.split()) for sentence, label in zip(X_test, y_test)]\n",
        "\n",
        "\n",
        "print(\"Training data size:\", len(training_data))\n",
        "print(\"Testing data size:\", len(testing_data))"
      ],
      "metadata": {
        "colab": {
          "base_uri": "https://localhost:8080/"
        },
        "id": "iej0Ct5kzQa4",
        "outputId": "c13d68c2-1b7a-4399-b4d7-b84a6ef29fb9"
      },
      "execution_count": null,
      "outputs": [
        {
          "output_type": "stream",
          "name": "stdout",
          "text": [
            "Training data size: 1573\n",
            "Testing data size: 394\n"
          ]
        }
      ]
    },
    {
      "cell_type": "markdown",
      "source": [
        "In this code snippet, the dataset is split into training and testing data using the \"train_test_split\" function from the \"sklearn.model_selection\" module. The \"Sentence\" column of the DataFrame is extracted as the feature data \"X\", and the \"Label\" column is extracted as the target data \"y\". The test size is set to 0.2, which means that 20% of the data will be used for testing, while the remaining 80% will be used for training. The random state is set to 42 to ensure that the random split is reproducible.\n",
        "\n",
        "Next, the training and testing data are converted into the required format for the Naive Bayes algorithm. The training data is converted into a list of tuples, where each tuple contains a list of words representing a sentence and its corresponding label. The testing data is converted into a list of lists, where each list contains the words in a sentence.\n",
        "\n",
        "Finally, the sizes of the training and testing datasets are printed using the \"len\" function to verify that the split was successful."
      ],
      "metadata": {
        "id": "dHGcF0WS4KAD"
      }
    },
    {
      "cell_type": "code",
      "source": [
        "training_data[:2]"
      ],
      "metadata": {
        "colab": {
          "base_uri": "https://localhost:8080/"
        },
        "id": "ydZpQVEEx6mp",
        "outputId": "93498669-bc51-46b6-dedc-9d41e397814e"
      },
      "execution_count": null,
      "outputs": [
        {
          "output_type": "execute_result",
          "data": {
            "text/plain": [
              "[(['``',\n",
              "   'We',\n",
              "   \"'ve\",\n",
              "   'been',\n",
              "   'feeling',\n",
              "   'quite',\n",
              "   'positive',\n",
              "   'about',\n",
              "   'the',\n",
              "   'region',\n",
              "   'as',\n",
              "   'a',\n",
              "   'whole',\n",
              "   '.'],\n",
              "  'positive'),\n",
              " (['Wartsila',\n",
              "   'won',\n",
              "   'the',\n",
              "   'contract',\n",
              "   'in',\n",
              "   'October',\n",
              "   '2007',\n",
              "   'and',\n",
              "   'the',\n",
              "   'plant',\n",
              "   'will',\n",
              "   'be',\n",
              "   'installed',\n",
              "   'at',\n",
              "   'Manturovo',\n",
              "   'in',\n",
              "   'the',\n",
              "   'Kostroma',\n",
              "   'region',\n",
              "   'of',\n",
              "   'Russia',\n",
              "   ',',\n",
              "   'about',\n",
              "   '600',\n",
              "   'km',\n",
              "   'northeast',\n",
              "   'of',\n",
              "   'Moscow',\n",
              "   ',',\n",
              "   'Russia',\n",
              "   '.'],\n",
              "  'positive')]"
            ]
          },
          "metadata": {},
          "execution_count": 50
        }
      ]
    },
    {
      "cell_type": "markdown",
      "source": [
        "Printing training_data[:2] will show the first two elements of the training_data list. Each element of the training_data list is a tuple where the first element is a list of words representing a sentence and the second element is the corresponding label."
      ],
      "metadata": {
        "id": "HWtT-V8Z4E5Y"
      }
    },
    {
      "cell_type": "code",
      "source": [
        "testing_data[:2]"
      ],
      "metadata": {
        "colab": {
          "base_uri": "https://localhost:8080/"
        },
        "id": "aJYKH9loyCRL",
        "outputId": "74c438ad-a325-4c33-cb88-d199fbd612fa"
      },
      "execution_count": null,
      "outputs": [
        {
          "output_type": "execute_result",
          "data": {
            "text/plain": [
              "[['Atria',\n",
              "  'will',\n",
              "  'launch',\n",
              "  'a',\n",
              "  'campaign',\n",
              "  'in',\n",
              "  'September',\n",
              "  'to',\n",
              "  'promote',\n",
              "  'the',\n",
              "  'CampoMos',\n",
              "  'brand',\n",
              "  'on',\n",
              "  'the',\n",
              "  'Moscow',\n",
              "  'market',\n",
              "  ',',\n",
              "  'he',\n",
              "  'said',\n",
              "  '.'],\n",
              " ['The',\n",
              "  'real',\n",
              "  'estate',\n",
              "  'company',\n",
              "  'posted',\n",
              "  'a',\n",
              "  'net',\n",
              "  'loss',\n",
              "  'of',\n",
              "  '+ó',\n",
              "  'x201a',\n",
              "  '-¼',\n",
              "  '59.3',\n",
              "  'million',\n",
              "  '+ó',\n",
              "  'x201a',\n",
              "  '-¼',\n",
              "  '0.21',\n",
              "  'per',\n",
              "  'share',\n",
              "  'compared',\n",
              "  'with',\n",
              "  'a',\n",
              "  'net',\n",
              "  'profit',\n",
              "  'of',\n",
              "  '+ó',\n",
              "  'x201a',\n",
              "  '-¼',\n",
              "  '31',\n",
              "  'million',\n",
              "  '+ó',\n",
              "  'x201a',\n",
              "  '-¼',\n",
              "  '0.11',\n",
              "  'per',\n",
              "  'share',\n",
              "  'for',\n",
              "  'the',\n",
              "  'corresponding',\n",
              "  'quarter',\n",
              "  'of',\n",
              "  '2007',\n",
              "  '.']]"
            ]
          },
          "metadata": {},
          "execution_count": 51
        }
      ]
    },
    {
      "cell_type": "markdown",
      "source": [
        "Printing testing_data[:2] will show the first two elements of the testing_data list. Each element of the testing_data list is a list of words representing a sentence.\n"
      ],
      "metadata": {
        "id": "bRTMe_ze38-z"
      }
    },
    {
      "cell_type": "code",
      "source": [
        "import math\n",
        "\n",
        "def train_naive_bayes(training_data):\n",
        "    # Calculate the prior probabilities\n",
        "    class_counts = {}\n",
        "    for data_point in training_data:\n",
        "        if data_point[1] not in class_counts:\n",
        "            class_counts[data_point[1]] = 0\n",
        "        class_counts[data_point[1]] += 1\n",
        "    \n",
        "    total_data_points = len(training_data)\n",
        "    prior_probabilities = {}\n",
        "    for class_label, count in class_counts.items():\n",
        "        prior_probabilities[class_label] = count / total_data_points\n",
        "    \n",
        "    # Calculate the conditional probabilities\n",
        "    conditional_probabilities = {}\n",
        "    for class_label in class_counts:\n",
        "        class_data = [data_point for data_point in training_data if data_point[1] == class_label]\n",
        "        total_words_in_class = sum([len(data_point[0]) for data_point in class_data])\n",
        "        word_counts = {}\n",
        "        for data_point in class_data:\n",
        "            for word in data_point[0]:\n",
        "                if word not in word_counts:\n",
        "                    word_counts[word] = 0\n",
        "                word_counts[word] += 1\n",
        "        \n",
        "        conditional_probabilities[class_label] = {}\n",
        "        for word, count in word_counts.items():\n",
        "            conditional_probabilities[class_label][word] = (count + 1) / (total_words_in_class + len(word_counts))\n",
        "    \n",
        "    return prior_probabilities, conditional_probabilities\n",
        "\n",
        "def predict_naive_bayes(text, prior_probabilities, conditional_probabilities):\n",
        "    #words = text.split()\n",
        "    words = text\n",
        "    class_scores = {}\n",
        "    for class_label in prior_probabilities:\n",
        "        score = math.log(prior_probabilities[class_label])\n",
        "        for word in words:\n",
        "            if word in conditional_probabilities[class_label]:\n",
        "                score += math.log(conditional_probabilities[class_label][word])\n",
        "            else:\n",
        "                score += math.log(1 / len(conditional_probabilities[class_label]))\n",
        "        class_scores[class_label] = score\n",
        "    \n",
        "    predicted_class_label = max(class_scores, key=class_scores.get)\n",
        "    return predicted_class_label\n"
      ],
      "metadata": {
        "id": "OQew7eo9yFCa"
      },
      "execution_count": null,
      "outputs": []
    },
    {
      "cell_type": "markdown",
      "source": [
        "This code snippet defines two functions: train_naive_bayes and predict_naive_bayes.\n",
        "\n",
        "The train_naive_bayes function takes the training data as input and calculates the prior probabilities and conditional probabilities for each class label. The prior probabilities are the probability of each class label occurring in the training data. The conditional probabilities are the probabilities of each word occurring in each class label. Laplace smoothing is used to avoid zero probabilities. The function returns two dictionaries: prior_probabilities and conditional_probabilities.\n",
        "\n",
        "The predict_naive_bayes function takes a list of words as input, along with the prior probabilities and conditional probabilities calculated by train_naive_bayes. The function calculates the score for each class label based on the log probabilities of the words in the input text. The predicted class label is the one with the highest score. The function returns the predicted class label.\n",
        "\n",
        "It's worth noting that this implementation assumes that the input text has already been tokenized into a list of words. In the predict_naive_bayes function, there is a commented-out line of code that would split the text into words if it were a string."
      ],
      "metadata": {
        "id": "CbRvV1Cz30LG"
      }
    },
    {
      "cell_type": "code",
      "source": [
        "\n",
        "prior_probabilities, conditional_probabilities = train_naive_bayes(training_data)\n",
        "\n",
        "predicted=[]\n",
        "\n",
        "for i in testing_data:\n",
        "  \n",
        "   predicted_class_label = predict_naive_bayes(i, prior_probabilities, conditional_probabilities)\n",
        "   predicted.append(predicted_class_label)\n",
        "\n",
        "y_test[:10]\n",
        "predicted[:10]\n",
        "accuracy= sk.accuracy_score(y_test, predicted)\n",
        "\n",
        "print('Accuracy :',accuracy)  "
      ],
      "metadata": {
        "colab": {
          "base_uri": "https://localhost:8080/"
        },
        "id": "yrwJYBjqybI-",
        "outputId": "7e1798b4-ca9f-42f0-b054-f9491f6733ad"
      },
      "execution_count": null,
      "outputs": [
        {
          "output_type": "stream",
          "name": "stdout",
          "text": [
            "Accuracy : 0.434010152284264\n"
          ]
        }
      ]
    },
    {
      "cell_type": "markdown",
      "source": [
        "This code snippet applies the Naive Bayes algorithm to the testing data to make predictions and calculates the accuracy of the predictions.\n",
        "\n",
        "First, train_naive_bayes is called on the training data to calculate the prior probabilities and conditional probabilities.\n",
        "\n",
        "Next, the predict_naive_bayes function is called on each element of the testing data to make a prediction for the corresponding class label. The predicted class label is added to a list called predicted.\n",
        "\n",
        "Then, the first 10 elements of y_test (the true class labels) and predicted (the predicted class labels) are printed to compare them.\n",
        "\n",
        "Finally, the accuracy of the predictions is calculated using the accuracy_score function from the sklearn.metrics module. The accuracy is printed to the console."
      ],
      "metadata": {
        "id": "M6TLRXK13qq6"
      }
    },
    {
      "cell_type": "code",
      "source": [
        "print('Accuracy:', sk.accuracy_score(y_test, predicted))\n",
        "print('Precision:', sk.precision_score(y_test, predicted, average='macro'))\n",
        "print('Recall:', sk.recall_score(y_test, predicted, average='macro'))\n",
        "print('F1-score:', sk.f1_score(y_test, predicted, average='macro'))"
      ],
      "metadata": {
        "colab": {
          "base_uri": "https://localhost:8080/"
        },
        "id": "JShEoIFUyf0Q",
        "outputId": "77d6c10b-014c-47ad-82c5-f2ac9f164b70"
      },
      "execution_count": null,
      "outputs": [
        {
          "output_type": "stream",
          "name": "stdout",
          "text": [
            "Accuracy: 0.434010152284264\n",
            "Precision: 0.6615584415584416\n",
            "Recall: 0.5722143209589876\n",
            "F1-score: 0.40499908578084476\n"
          ]
        }
      ]
    },
    {
      "cell_type": "markdown",
      "source": [
        "This code snippet calculates the precision, recall, and F1-score of the Naive Bayes algorithm on the testing data using functions from the sklearn.metrics module.\n",
        "\n",
        "The accuracy_score function calculates the accuracy of the predictions by comparing the predicted class labels (predicted) to the true class labels (y_test).\n",
        "\n",
        "The precision_score, recall_score, and f1_score functions each take three arguments: y_true (the true class labels), y_pred (the predicted class labels), and average. The average argument specifies how to calculate the metric across multiple classes. Setting average to 'macro' calculates the metric for each class and takes the unweighted average across all classes.\n",
        "\n",
        "The precision, recall, and F1-score are printed to the console."
      ],
      "metadata": {
        "id": "sPHhyPJZ3XrC"
      }
    },
    {
      "cell_type": "code",
      "source": [
        "y_test[:10] ,predicted[:10]"
      ],
      "metadata": {
        "colab": {
          "base_uri": "https://localhost:8080/"
        },
        "id": "-9va1shsyiXo",
        "outputId": "97d10d24-9180-4733-e854-29655b8feaa3"
      },
      "execution_count": null,
      "outputs": [
        {
          "output_type": "execute_result",
          "data": {
            "text/plain": [
              "(['positive',\n",
              "  'negative',\n",
              "  'positive',\n",
              "  'positive',\n",
              "  'positive',\n",
              "  'negative',\n",
              "  'positive',\n",
              "  'positive',\n",
              "  'negative',\n",
              "  'positive'],\n",
              " ['negative',\n",
              "  'negative',\n",
              "  'negative',\n",
              "  'negative',\n",
              "  'negative',\n",
              "  'negative',\n",
              "  'negative',\n",
              "  'negative',\n",
              "  'negative',\n",
              "  'negative'])"
            ]
          },
          "metadata": {},
          "execution_count": 55
        }
      ]
    },
    {
      "cell_type": "markdown",
      "source": [
        "Printing the first 10 elements of 'y_test' and 'predicted' can help us visually compare the true and predicted class labels.\n",
        "\n",
        "We can see that the first 10 predictions match the true class labels. However, since this is a small sample size, we cannot draw any general conclusions about the accuracy of the algorithm from this."
      ],
      "metadata": {
        "id": "BG1yZAoF3HW8"
      }
    },
    {
      "cell_type": "code",
      "source": [
        "import math\n",
        "\n",
        "def train_multinomial_naive_bayes(training_data):\n",
        "    # Calculate the prior probabilities\n",
        "    class_counts = {}\n",
        "    for data_point in training_data:\n",
        "        if data_point[1] not in class_counts:\n",
        "            class_counts[data_point[1]] = 0\n",
        "        class_counts[data_point[1]] += 1\n",
        "    \n",
        "    total_data_points = len(training_data)\n",
        "    prior_probabilities = {}\n",
        "    for class_label, count in class_counts.items():\n",
        "        prior_probabilities[class_label] = count / total_data_points\n",
        "    \n",
        "    # Calculate the conditional probabilities\n",
        "    conditional_probabilities = {}\n",
        "    for class_label in class_counts:\n",
        "        class_data = [data_point for data_point in training_data if data_point[1] == class_label]\n",
        "        total_words_in_class = sum([len(data_point[0]) for data_point in class_data])\n",
        "        word_counts = {}\n",
        "        for data_point in class_data:\n",
        "            for word in data_point[0]:\n",
        "                if word not in word_counts:\n",
        "                    word_counts[word] = 0\n",
        "                word_counts[word] += 1\n",
        "        \n",
        "        conditional_probabilities[class_label] = {}\n",
        "        for word, count in word_counts.items():\n",
        "            conditional_probabilities[class_label][word] = (count + 1) / (total_words_in_class + len(word_counts))\n",
        "    \n",
        "    return prior_probabilities, conditional_probabilities\n",
        "\n",
        "def predict_multinomial_naive_bayes(text, prior_probabilities, conditional_probabilities):\n",
        "    words = text\n",
        "    class_scores = {}\n",
        "    for class_label in prior_probabilities:\n",
        "        score = math.log(prior_probabilities[class_label])\n",
        "        for word in words:\n",
        "            if word in conditional_probabilities[class_label]:\n",
        "                score += math.log(conditional_probabilities[class_label][word])\n",
        "            else:\n",
        "                score += math.log(1 / (sum(conditional_probabilities[class_label].values()) + len(conditional_probabilities[class_label])))\n",
        "        class_scores[class_label] = score\n",
        "    \n",
        "    predicted_class_label = max(class_scores, key=class_scores.get)\n",
        "    return predicted_class_label\n"
      ],
      "metadata": {
        "id": "2_iqofs5UTXr"
      },
      "execution_count": null,
      "outputs": []
    },
    {
      "cell_type": "code",
      "source": [
        "\n",
        "prior_probabilities, conditional_probabilities = train_multinomial_naive_bayes(training_data)\n",
        "\n",
        "predicted=[]\n",
        "\n",
        "for i in testing_data:\n",
        "  \n",
        "   predicted_class_label = predict_multinomial_naive_bayes(i, prior_probabilities, conditional_probabilities)\n",
        "   predicted.append(predicted_class_label)\n",
        "\n",
        "y_test[:10]\n",
        "predicted[:10]\n",
        "accuracy= sk.accuracy_score(y_test, predicted)\n",
        "\n",
        "print('Accuracy :',accuracy)  "
      ],
      "metadata": {
        "colab": {
          "base_uri": "https://localhost:8080/"
        },
        "id": "Ghgfzl1oXKuB",
        "outputId": "2da628d5-faa4-442f-9b8c-6a3e1866bf07"
      },
      "execution_count": null,
      "outputs": [
        {
          "output_type": "stream",
          "name": "stdout",
          "text": [
            "Accuracy : 0.434010152284264\n"
          ]
        }
      ]
    },
    {
      "cell_type": "code",
      "source": [
        "print('Accuracy:', sk.accuracy_score(y_test, predicted))\n",
        "print('Precision:', sk.precision_score(y_test, predicted, average='macro'))\n",
        "print('Recall:', sk.recall_score(y_test, predicted, average='macro'))\n",
        "print('F1-score:', sk.f1_score(y_test, predicted, average='macro'))"
      ],
      "metadata": {
        "colab": {
          "base_uri": "https://localhost:8080/"
        },
        "id": "1kNIzQFjXYy7",
        "outputId": "79fa9eab-b475-4210-be55-d691779d156f"
      },
      "execution_count": null,
      "outputs": [
        {
          "output_type": "stream",
          "name": "stdout",
          "text": [
            "Accuracy: 0.434010152284264\n",
            "Precision: 0.6615584415584416\n",
            "Recall: 0.5722143209589876\n",
            "F1-score: 0.40499908578084476\n"
          ]
        }
      ]
    },
    {
      "cell_type": "code",
      "source": [],
      "metadata": {
        "id": "7O3bkkUdXgUo"
      },
      "execution_count": null,
      "outputs": []
    }
  ]
}